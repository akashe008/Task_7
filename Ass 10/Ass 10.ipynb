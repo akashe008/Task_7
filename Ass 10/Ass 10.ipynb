{
 "cells": [
  {
   "cell_type": "code",
   "execution_count": 117,
   "id": "1902b73f",
   "metadata": {},
   "outputs": [],
   "source": [
    "import pandas as pd\n",
    "import numpy as np"
   ]
  },
  {
   "cell_type": "code",
   "execution_count": 118,
   "id": "8e54c6aa",
   "metadata": {},
   "outputs": [
    {
     "data": {
      "text/html": [
       "<div>\n",
       "<style scoped>\n",
       "    .dataframe tbody tr th:only-of-type {\n",
       "        vertical-align: middle;\n",
       "    }\n",
       "\n",
       "    .dataframe tbody tr th {\n",
       "        vertical-align: top;\n",
       "    }\n",
       "\n",
       "    .dataframe thead th {\n",
       "        text-align: right;\n",
       "    }\n",
       "</style>\n",
       "<table border=\"1\" class=\"dataframe\">\n",
       "  <thead>\n",
       "    <tr style=\"text-align: right;\">\n",
       "      <th></th>\n",
       "      <th>Id</th>\n",
       "      <th>RI</th>\n",
       "      <th>Na</th>\n",
       "      <th>Mg</th>\n",
       "      <th>Al</th>\n",
       "      <th>Si</th>\n",
       "      <th>K</th>\n",
       "      <th>Ca</th>\n",
       "      <th>Ba</th>\n",
       "      <th>Fe</th>\n",
       "      <th>Type of glass</th>\n",
       "    </tr>\n",
       "  </thead>\n",
       "  <tbody>\n",
       "    <tr>\n",
       "      <th>0</th>\n",
       "      <td>1</td>\n",
       "      <td>1.52101</td>\n",
       "      <td>13.64</td>\n",
       "      <td>4.49</td>\n",
       "      <td>1.10</td>\n",
       "      <td>71.78</td>\n",
       "      <td>0.06</td>\n",
       "      <td>8.75</td>\n",
       "      <td>0.0</td>\n",
       "      <td>0.0</td>\n",
       "      <td>1</td>\n",
       "    </tr>\n",
       "    <tr>\n",
       "      <th>1</th>\n",
       "      <td>2</td>\n",
       "      <td>1.51761</td>\n",
       "      <td>13.89</td>\n",
       "      <td>3.60</td>\n",
       "      <td>1.36</td>\n",
       "      <td>72.73</td>\n",
       "      <td>0.48</td>\n",
       "      <td>7.83</td>\n",
       "      <td>0.0</td>\n",
       "      <td>0.0</td>\n",
       "      <td>1</td>\n",
       "    </tr>\n",
       "    <tr>\n",
       "      <th>2</th>\n",
       "      <td>3</td>\n",
       "      <td>1.51618</td>\n",
       "      <td>13.53</td>\n",
       "      <td>3.55</td>\n",
       "      <td>1.54</td>\n",
       "      <td>72.99</td>\n",
       "      <td>0.39</td>\n",
       "      <td>7.78</td>\n",
       "      <td>0.0</td>\n",
       "      <td>0.0</td>\n",
       "      <td>1</td>\n",
       "    </tr>\n",
       "    <tr>\n",
       "      <th>3</th>\n",
       "      <td>4</td>\n",
       "      <td>1.51766</td>\n",
       "      <td>13.21</td>\n",
       "      <td>3.69</td>\n",
       "      <td>1.29</td>\n",
       "      <td>72.61</td>\n",
       "      <td>0.57</td>\n",
       "      <td>8.22</td>\n",
       "      <td>0.0</td>\n",
       "      <td>0.0</td>\n",
       "      <td>1</td>\n",
       "    </tr>\n",
       "    <tr>\n",
       "      <th>4</th>\n",
       "      <td>5</td>\n",
       "      <td>1.51742</td>\n",
       "      <td>13.27</td>\n",
       "      <td>3.62</td>\n",
       "      <td>1.24</td>\n",
       "      <td>73.08</td>\n",
       "      <td>0.55</td>\n",
       "      <td>8.07</td>\n",
       "      <td>0.0</td>\n",
       "      <td>0.0</td>\n",
       "      <td>1</td>\n",
       "    </tr>\n",
       "  </tbody>\n",
       "</table>\n",
       "</div>"
      ],
      "text/plain": [
       "   Id       RI     Na    Mg    Al     Si     K    Ca   Ba   Fe  Type of glass\n",
       "0   1  1.52101  13.64  4.49  1.10  71.78  0.06  8.75  0.0  0.0              1\n",
       "1   2  1.51761  13.89  3.60  1.36  72.73  0.48  7.83  0.0  0.0              1\n",
       "2   3  1.51618  13.53  3.55  1.54  72.99  0.39  7.78  0.0  0.0              1\n",
       "3   4  1.51766  13.21  3.69  1.29  72.61  0.57  8.22  0.0  0.0              1\n",
       "4   5  1.51742  13.27  3.62  1.24  73.08  0.55  8.07  0.0  0.0              1"
      ]
     },
     "execution_count": 118,
     "metadata": {},
     "output_type": "execute_result"
    }
   ],
   "source": [
    "df_train=pd.read_csv(\"trainKNN.txt\",header=None,names=['Id','RI','Na','Mg','Al','Si','K','Ca','Ba','Fe','Type of glass'])\n",
    "df_train.head()"
   ]
  },
  {
   "cell_type": "code",
   "execution_count": 119,
   "id": "7a85f826",
   "metadata": {},
   "outputs": [
    {
     "data": {
      "text/html": [
       "<div>\n",
       "<style scoped>\n",
       "    .dataframe tbody tr th:only-of-type {\n",
       "        vertical-align: middle;\n",
       "    }\n",
       "\n",
       "    .dataframe tbody tr th {\n",
       "        vertical-align: top;\n",
       "    }\n",
       "\n",
       "    .dataframe thead th {\n",
       "        text-align: right;\n",
       "    }\n",
       "</style>\n",
       "<table border=\"1\" class=\"dataframe\">\n",
       "  <thead>\n",
       "    <tr style=\"text-align: right;\">\n",
       "      <th></th>\n",
       "      <th>Id</th>\n",
       "      <th>RI</th>\n",
       "      <th>Na</th>\n",
       "      <th>Mg</th>\n",
       "      <th>Al</th>\n",
       "      <th>Si</th>\n",
       "      <th>K</th>\n",
       "      <th>Ca</th>\n",
       "      <th>Ba</th>\n",
       "      <th>Fe</th>\n",
       "      <th>Type of glass</th>\n",
       "    </tr>\n",
       "  </thead>\n",
       "  <tbody>\n",
       "    <tr>\n",
       "      <th>0</th>\n",
       "      <td>68</td>\n",
       "      <td>1.52152</td>\n",
       "      <td>13.05</td>\n",
       "      <td>3.65</td>\n",
       "      <td>0.87</td>\n",
       "      <td>72.32</td>\n",
       "      <td>0.19</td>\n",
       "      <td>9.85</td>\n",
       "      <td>0.0</td>\n",
       "      <td>0.17</td>\n",
       "      <td>1</td>\n",
       "    </tr>\n",
       "    <tr>\n",
       "      <th>1</th>\n",
       "      <td>69</td>\n",
       "      <td>1.52152</td>\n",
       "      <td>13.12</td>\n",
       "      <td>3.58</td>\n",
       "      <td>0.90</td>\n",
       "      <td>72.20</td>\n",
       "      <td>0.23</td>\n",
       "      <td>9.82</td>\n",
       "      <td>0.0</td>\n",
       "      <td>0.16</td>\n",
       "      <td>1</td>\n",
       "    </tr>\n",
       "    <tr>\n",
       "      <th>2</th>\n",
       "      <td>70</td>\n",
       "      <td>1.52300</td>\n",
       "      <td>13.31</td>\n",
       "      <td>3.58</td>\n",
       "      <td>0.82</td>\n",
       "      <td>71.99</td>\n",
       "      <td>0.12</td>\n",
       "      <td>10.17</td>\n",
       "      <td>0.0</td>\n",
       "      <td>0.03</td>\n",
       "      <td>1</td>\n",
       "    </tr>\n",
       "    <tr>\n",
       "      <th>3</th>\n",
       "      <td>144</td>\n",
       "      <td>1.51709</td>\n",
       "      <td>13.00</td>\n",
       "      <td>3.47</td>\n",
       "      <td>1.79</td>\n",
       "      <td>72.72</td>\n",
       "      <td>0.66</td>\n",
       "      <td>8.18</td>\n",
       "      <td>0.0</td>\n",
       "      <td>0.00</td>\n",
       "      <td>2</td>\n",
       "    </tr>\n",
       "    <tr>\n",
       "      <th>4</th>\n",
       "      <td>145</td>\n",
       "      <td>1.51660</td>\n",
       "      <td>12.99</td>\n",
       "      <td>3.18</td>\n",
       "      <td>1.23</td>\n",
       "      <td>72.97</td>\n",
       "      <td>0.58</td>\n",
       "      <td>8.81</td>\n",
       "      <td>0.0</td>\n",
       "      <td>0.24</td>\n",
       "      <td>2</td>\n",
       "    </tr>\n",
       "  </tbody>\n",
       "</table>\n",
       "</div>"
      ],
      "text/plain": [
       "    Id       RI     Na    Mg    Al     Si     K     Ca   Ba    Fe  \\\n",
       "0   68  1.52152  13.05  3.65  0.87  72.32  0.19   9.85  0.0  0.17   \n",
       "1   69  1.52152  13.12  3.58  0.90  72.20  0.23   9.82  0.0  0.16   \n",
       "2   70  1.52300  13.31  3.58  0.82  71.99  0.12  10.17  0.0  0.03   \n",
       "3  144  1.51709  13.00  3.47  1.79  72.72  0.66   8.18  0.0  0.00   \n",
       "4  145  1.51660  12.99  3.18  1.23  72.97  0.58   8.81  0.0  0.24   \n",
       "\n",
       "   Type of glass  \n",
       "0              1  \n",
       "1              1  \n",
       "2              1  \n",
       "3              2  \n",
       "4              2  "
      ]
     },
     "execution_count": 119,
     "metadata": {},
     "output_type": "execute_result"
    }
   ],
   "source": [
    "df_test=pd.read_csv(\"testKNN.txt\",header=None,names=['Id','RI','Na','Mg','Al','Si','K','Ca','Ba','Fe','Type of glass'])\n",
    "df_test.head()"
   ]
  },
  {
   "cell_type": "code",
   "execution_count": 120,
   "id": "7541fc3e",
   "metadata": {},
   "outputs": [],
   "source": [
    "y_train=df_train['Type of glass'].values\n",
    "X_train=df_train.iloc[:,1:-1].values\n",
    "y_test=df_test['Type of glass'].values\n",
    "X_test=df_test.iloc[:,1:-1].values"
   ]
  },
  {
   "cell_type": "code",
   "execution_count": 121,
   "id": "3a5c7448",
   "metadata": {},
   "outputs": [],
   "source": [
    "from sklearn.preprocessing import StandardScaler\n",
    "scaler = StandardScaler()\n",
    "X_train = scaler.fit_transform(X_train)\n",
    "X_test = scaler.transform(X_test)"
   ]
  },
  {
   "cell_type": "code",
   "execution_count": 122,
   "id": "09ef969e",
   "metadata": {},
   "outputs": [
    {
     "name": "stdout",
     "output_type": "stream",
     "text": [
      "K value  :  1  train score :  1.0  cv score :  0.6380769230769231\n",
      "K value  :  2  train score :  0.8418367346938775  cv score :  0.6585897435897436\n",
      "K value  :  3  train score :  0.8520408163265306  cv score :  0.6738461538461538\n",
      "K value  :  4  train score :  0.7959183673469388  cv score :  0.6687179487179487\n",
      "K value  :  5  train score :  0.8010204081632653  cv score :  0.6482051282051282\n",
      "K value  :  6  train score :  0.7806122448979592  cv score :  0.6634615384615384\n",
      "K value  :  7  train score :  0.7346938775510204  cv score :  0.6330769230769231\n",
      "K value  :  8  train score :  0.7551020408163265  cv score :  0.6382051282051282\n",
      "K value  :  9  train score :  0.7244897959183674  cv score :  0.6432051282051281\n",
      "K value  :  10  train score :  0.7142857142857143  cv score :  0.6432051282051282\n",
      "K value  :  20  train score :  0.6938775510204082  cv score :  0.5769230769230769\n",
      "K value  :  50  train score :  0.6224489795918368  cv score :  0.4641025641025641\n"
     ]
    }
   ],
   "source": [
    "from sklearn.neighbors import KNeighborsClassifier\n",
    "from sklearn.model_selection import cross_val_score\n",
    "for i in [1,2,3,4,5,6,7,8,9,10,20,50]:\n",
    "  knn = KNeighborsClassifier(i)\n",
    "  knn.fit(X_train,y_train)\n",
    "  print(\"K value  : \" , i, \" train score : \", knn.score(X_train,y_train) , \" cv score : \", np.mean(cross_val_score(knn, X_train, y_train, cv=5)))"
   ]
  },
  {
   "cell_type": "code",
   "execution_count": 123,
   "id": "4b17f1ec",
   "metadata": {},
   "outputs": [
    {
     "data": {
      "text/plain": [
       "0.6111111111111112"
      ]
     },
     "execution_count": 123,
     "metadata": {},
     "output_type": "execute_result"
    }
   ],
   "source": [
    "#KNN using Squared Euclidean distance\n",
    "knn = KNeighborsClassifier(n_neighbors=3,metric='sqeuclidean')\n",
    "knn.fit(X_train,y_train)\n",
    "y_pred_sqe=knn.predict(X_test)\n",
    "knn.score(X_test,y_test)"
   ]
  },
  {
   "cell_type": "code",
   "execution_count": 124,
   "id": "ed0a9f27",
   "metadata": {},
   "outputs": [
    {
     "data": {
      "text/plain": [
       "0.8666666666666666"
      ]
     },
     "execution_count": 124,
     "metadata": {},
     "output_type": "execute_result"
    }
   ],
   "source": [
    "#ROC score for KNN using Squared Euclidean distance\n",
    "acc_sqe = roc_auc_score(y_test,knn.predict_proba(X_test),multi_class='ovr')\n",
    "acc_sqe"
   ]
  },
  {
   "cell_type": "code",
   "execution_count": 125,
   "id": "d8f97ac3",
   "metadata": {},
   "outputs": [
    {
     "data": {
      "text/plain": [
       "0.6111111111111112"
      ]
     },
     "execution_count": 125,
     "metadata": {},
     "output_type": "execute_result"
    }
   ],
   "source": [
    "#KNN using Manhattan distance\n",
    "from sklearn.neighbors import KNeighborsClassifier\n",
    "knn = KNeighborsClassifier(n_neighbors=3,metric='manhattan')\n",
    "knn.fit(X_train,y_train)\n",
    "y_pred_ma=knn.predict(X_test)\n",
    "knn.score(X_test,y_test)"
   ]
  },
  {
   "cell_type": "code",
   "execution_count": 126,
   "id": "45ee8bea",
   "metadata": {},
   "outputs": [
    {
     "data": {
      "text/plain": [
       "0.8555555555555555"
      ]
     },
     "execution_count": 126,
     "metadata": {},
     "output_type": "execute_result"
    }
   ],
   "source": [
    "#ROC score for KNN using Squared Euclidean distance\n",
    "from sklearn.metrics import roc_auc_score\n",
    "acc_ma = roc_auc_score(y_test,knn.predict_proba(X_test),multi_class='ovr')\n",
    "acc_ma"
   ]
  },
  {
   "cell_type": "code",
   "execution_count": 127,
   "id": "2e857204",
   "metadata": {},
   "outputs": [
    {
     "name": "stdout",
     "output_type": "stream",
     "text": [
      "              precision    recall  f1-score   support\n",
      "\n",
      "           1       0.75      1.00      0.86         3\n",
      "           2       0.38      1.00      0.55         3\n",
      "           3       0.00      0.00      0.00         3\n",
      "           5       1.00      0.33      0.50         3\n",
      "           6       1.00      0.33      0.50         3\n",
      "           7       0.75      1.00      0.86         3\n",
      "\n",
      "    accuracy                           0.61        18\n",
      "   macro avg       0.65      0.61      0.54        18\n",
      "weighted avg       0.65      0.61      0.54        18\n",
      "\n"
     ]
    },
    {
     "name": "stderr",
     "output_type": "stream",
     "text": [
      "C:\\Users\\DELL\\anaconda3\\lib\\site-packages\\sklearn\\metrics\\_classification.py:1334: UndefinedMetricWarning: Precision and F-score are ill-defined and being set to 0.0 in labels with no predicted samples. Use `zero_division` parameter to control this behavior.\n",
      "  _warn_prf(average, modifier, msg_start, len(result))\n",
      "C:\\Users\\DELL\\anaconda3\\lib\\site-packages\\sklearn\\metrics\\_classification.py:1334: UndefinedMetricWarning: Precision and F-score are ill-defined and being set to 0.0 in labels with no predicted samples. Use `zero_division` parameter to control this behavior.\n",
      "  _warn_prf(average, modifier, msg_start, len(result))\n",
      "C:\\Users\\DELL\\anaconda3\\lib\\site-packages\\sklearn\\metrics\\_classification.py:1334: UndefinedMetricWarning: Precision and F-score are ill-defined and being set to 0.0 in labels with no predicted samples. Use `zero_division` parameter to control this behavior.\n",
      "  _warn_prf(average, modifier, msg_start, len(result))\n"
     ]
    }
   ],
   "source": [
    "#Scikit-Learn Classification Report for Squared Euclidean distance\n",
    "from sklearn.metrics import classification_report\n",
    "print(classification_report(y_test, y_pred_sqe, target_names=['1','2','3','5','6','7']))"
   ]
  },
  {
   "cell_type": "code",
   "execution_count": 128,
   "id": "679bad63",
   "metadata": {},
   "outputs": [
    {
     "name": "stdout",
     "output_type": "stream",
     "text": [
      "              precision    recall  f1-score   support\n",
      "\n",
      "           1       0.50      1.00      0.67         3\n",
      "           2       0.33      0.67      0.44         3\n",
      "           3       0.00      0.00      0.00         3\n",
      "           5       1.00      0.67      0.80         3\n",
      "           6       1.00      0.33      0.50         3\n",
      "           7       1.00      1.00      1.00         3\n",
      "\n",
      "    accuracy                           0.61        18\n",
      "   macro avg       0.64      0.61      0.57        18\n",
      "weighted avg       0.64      0.61      0.57        18\n",
      "\n"
     ]
    },
    {
     "name": "stderr",
     "output_type": "stream",
     "text": [
      "C:\\Users\\DELL\\anaconda3\\lib\\site-packages\\sklearn\\metrics\\_classification.py:1334: UndefinedMetricWarning: Precision and F-score are ill-defined and being set to 0.0 in labels with no predicted samples. Use `zero_division` parameter to control this behavior.\n",
      "  _warn_prf(average, modifier, msg_start, len(result))\n",
      "C:\\Users\\DELL\\anaconda3\\lib\\site-packages\\sklearn\\metrics\\_classification.py:1334: UndefinedMetricWarning: Precision and F-score are ill-defined and being set to 0.0 in labels with no predicted samples. Use `zero_division` parameter to control this behavior.\n",
      "  _warn_prf(average, modifier, msg_start, len(result))\n",
      "C:\\Users\\DELL\\anaconda3\\lib\\site-packages\\sklearn\\metrics\\_classification.py:1334: UndefinedMetricWarning: Precision and F-score are ill-defined and being set to 0.0 in labels with no predicted samples. Use `zero_division` parameter to control this behavior.\n",
      "  _warn_prf(average, modifier, msg_start, len(result))\n"
     ]
    }
   ],
   "source": [
    "#Scikit-Learn Classification Report for Manhattan distance\n",
    "print(classification_report(y_test, y_pred_ma, target_names=['1','2','3','5','6','7']))"
   ]
  },
  {
   "cell_type": "code",
   "execution_count": null,
   "id": "e4c68ddf",
   "metadata": {},
   "outputs": [],
   "source": []
  }
 ],
 "metadata": {
  "kernelspec": {
   "display_name": "Python 3 (ipykernel)",
   "language": "python",
   "name": "python3"
  },
  "language_info": {
   "codemirror_mode": {
    "name": "ipython",
    "version": 3
   },
   "file_extension": ".py",
   "mimetype": "text/x-python",
   "name": "python",
   "nbconvert_exporter": "python",
   "pygments_lexer": "ipython3",
   "version": "3.9.12"
  }
 },
 "nbformat": 4,
 "nbformat_minor": 5
}
